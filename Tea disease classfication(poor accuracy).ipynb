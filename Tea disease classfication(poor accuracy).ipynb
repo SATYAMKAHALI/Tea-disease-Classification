{
  "nbformat": 4,
  "nbformat_minor": 0,
  "metadata": {
    "colab": {
      "provenance": []
    },
    "kernelspec": {
      "name": "python3",
      "display_name": "Python 3"
    },
    "language_info": {
      "name": "python"
    }
  },
  "cells": [
    {
      "cell_type": "code",
      "execution_count": 1,
      "metadata": {
        "colab": {
          "base_uri": "https://localhost:8080/"
        },
        "id": "M2EO_iKFJAeA",
        "outputId": "c2933fdf-eb55-4f38-a26c-01d267a75f71"
      },
      "outputs": [
        {
          "output_type": "stream",
          "name": "stdout",
          "text": [
            "Mounted at /content/drive\n"
          ]
        }
      ],
      "source": [
        "from google.colab import drive\n",
        "drive.mount('/content/drive')"
      ]
    },
    {
      "cell_type": "markdown",
      "source": [
        "# importing necessary libraries"
      ],
      "metadata": {
        "id": "ad68pfJmcbfU"
      }
    },
    {
      "cell_type": "code",
      "source": [
        "import torch\n",
        "import numpy as np\n",
        "import matplotlib.pyplot as plt\n",
        "from torch.utils.data import DataLoader\n",
        "import torch.optim as optim\n",
        "import torch.nn as nn\n",
        "from torchvision import transforms,datasets\n",
        "import torch.nn as nn\n",
        "from sklearn.metrics import precision_score,recall_score,f1_score,accuracy_score\n",
        "from sklearn.metrics import confusion_matrix\n",
        "from sklearn.preprocessing import StandardScaler\n",
        "from sklearn.model_selection import train_test_split\n"
      ],
      "metadata": {
        "id": "po3CI228YXFp"
      },
      "execution_count": 2,
      "outputs": []
    },
    {
      "cell_type": "markdown",
      "source": [
        "# dataset to my path in google drive"
      ],
      "metadata": {
        "id": "YPabsc2KciBp"
      }
    },
    {
      "cell_type": "code",
      "source": [
        "dataset_path = '/content/drive/MyDrive/KaggleDatasets/Tea_Sickness_Dataset/tea sickness dataset'"
      ],
      "metadata": {
        "id": "O841mujvZx_I"
      },
      "execution_count": 19,
      "outputs": []
    },
    {
      "cell_type": "code",
      "source": [
        "device=torch.device('cuda' if torch.cuda.is_available() else 'cpu')"
      ],
      "metadata": {
        "id": "aZXGd7yghlYl"
      },
      "execution_count": 20,
      "outputs": []
    },
    {
      "cell_type": "markdown",
      "source": [
        "# transforming data"
      ],
      "metadata": {
        "id": "S8Fkh7WXcnUu"
      }
    },
    {
      "cell_type": "code",
      "source": [
        "train_transforms = transforms.Compose([\n",
        "    transforms.Resize((224, 224)),              # Resize to desired dimensions\n",
        "    transforms.RandomHorizontalFlip(),         # Apply horizontal flip\n",
        "    transforms.RandomVerticalFlip(),           # Apply vertical flip\n",
        "    transforms.RandomInvert(),                 # Invert colors\n",
        "    transforms.RandomRotation(degrees=90),     # Randomly rotate 90 degrees\n",
        "    transforms.ToTensor(),                     # Convert PIL image to tensor\n",
        "    transforms.Normalize(mean=[0.5, 0.5, 0.5], std=[0.5, 0.5, 0.5]),  # Normalize tensor\n",
        "])\n",
        "\n",
        "val_transforms = transforms.Compose([\n",
        "    transforms.Resize((224, 224)),             # Resize for validation\n",
        "    transforms.ToTensor(),                     # Convert PIL image to tensor\n",
        "    transforms.Normalize(mean=[0.5, 0.5, 0.5], std=[0.5, 0.5, 0.5]),  # Normalize tensor\n",
        "])\n"
      ],
      "metadata": {
        "id": "OCo5TWw9aCIL"
      },
      "execution_count": 21,
      "outputs": []
    },
    {
      "cell_type": "markdown",
      "source": [
        "# Making separate directories for storing training, testing, validation photos"
      ],
      "metadata": {
        "id": "RxZZOmShctmm"
      }
    },
    {
      "cell_type": "code",
      "source": [
        "from sklearn.model_selection import train_test_split\n",
        "from torch.utils.data import DataLoader\n",
        "import os\n",
        "import shutil\n",
        "\n",
        "# make specific directories\n",
        "base_dir='/content/drive/MyDrive/KaggleDatasets/Tea_Sickness_Dataset/Split'\n",
        "train_dir=os.path.join(base_dir,'train')\n",
        "val_dir=os.path.join(base_dir,'val')\n",
        "test_dir=os.path.join(base_dir,'test')\n",
        "\n",
        "#make directories if not present\n",
        "os.makedirs(train_dir,exist_ok=True)\n",
        "os.makedirs(val_dir,exist_ok=True)\n",
        "os.makedirs(test_dir,exist_ok=True)\n"
      ],
      "metadata": {
        "id": "X8zbiEqtasTC"
      },
      "execution_count": 22,
      "outputs": []
    },
    {
      "cell_type": "markdown",
      "source": [
        "# Splitting the dataset into separate directories for each class of disease"
      ],
      "metadata": {
        "id": "JrWagi6DrFBz"
      }
    },
    {
      "cell_type": "code",
      "source": [
        "#This for loop is to connect all the subdirectory present in the tea sickness dataset to disease_path\n",
        "\n",
        "for disease_folder in os.listdir(dataset_path):\n",
        "  disease_path=os.path.join(dataset_path,disease_folder)\n",
        "\n",
        "  if not os.path.isdir(disease_path):        #if there is no such directory then just continue and don't stop the loop\n",
        "    continue\n",
        "\n",
        "  images=os.listdir(disease_path)            #copy all the images\n",
        "\n",
        "  # splitting the dataset into training (70% ), testing(15%) and validation(15%)\n",
        "  train_images,test_images=train_test_split(images,test_size=0.3,random_state=42)\n",
        "  val_images,test_images=train_test_split(test_images,test_size=0.5,random_state=42)\n",
        "\n",
        "  # creating subdirectories for each disease(like anthracnose,algal leaf) in train,test and val directories\n",
        "\n",
        "  train_disease_dir=os.path.join(train_dir,disease_folder)\n",
        "  val_disease_dir=os.path.join(val_dir,disease_folder)\n",
        "  test_disease_dir=os.path.join(test_dir,disease_folder)\n",
        "\n",
        "  os.makedirs(train_disease_dir,exist_ok=True)\n",
        "  os.makedirs(val_disease_dir,exist_ok=True)\n",
        "  os.makedirs(test_disease_dir,exist_ok=True)\n",
        "\n",
        "  # move the splitted images to these respective directories of train,test and val\n",
        "\n",
        "  for image in train_images:\n",
        "    shutil.copy(os.path.join(disease_path,image),os.path.join(train_disease_dir,image))\n",
        "\n",
        "  for image in val_images:\n",
        "    shutil.copy(os.path.join(disease_path,image),os.path.join(val_disease_dir,image))\n",
        "\n",
        "  for image in test_images:\n",
        "    shutil.copy(os.path.join(disease_path,image),os.path.join(test_disease_dir,image))\n",
        "\n",
        "def countfiles(directory):\n",
        "  count=0\n",
        "  for root,dirs,files in os.walk(directory):\n",
        "      count += len(files)\n",
        "  return count\n",
        "\n",
        "print(\"Training set size:\", countfiles(train_dir))\n",
        "print(\"Testing set size:\", countfiles(test_dir))\n",
        "print(\"Validation set size:\", countfiles(val_dir))\n"
      ],
      "metadata": {
        "colab": {
          "base_uri": "https://localhost:8080/"
        },
        "id": "nNBZlt_coGhY",
        "outputId": "9d94365c-d8eb-4961-ef56-22e67638b0cf"
      },
      "execution_count": 23,
      "outputs": [
        {
          "output_type": "stream",
          "name": "stdout",
          "text": [
            "Training set size: 618\n",
            "Testing set size: 135\n",
            "Validation set size: 132\n"
          ]
        }
      ]
    },
    {
      "cell_type": "markdown",
      "source": [
        "# ImageFolder helps in loading the images in batches"
      ],
      "metadata": {
        "id": "zeTetHOSvT-l"
      }
    },
    {
      "cell_type": "code",
      "source": [
        "from torchvision.datasets import ImageFolder\n",
        "\n",
        "train_data=ImageFolder(root=train_dir,transform=train_transforms)\n",
        "val_data=ImageFolder(root=val_dir,transform=val_transforms)\n",
        "test_data=ImageFolder(root=test_dir,transform=val_transforms)"
      ],
      "metadata": {
        "id": "XxBzbKAroPQl"
      },
      "execution_count": 24,
      "outputs": []
    },
    {
      "cell_type": "code",
      "source": [
        "train_loader= DataLoader(train_data,batch_size=32,shuffle=True)\n",
        "val_loader=DataLoader(val_data,batch_size=32,shuffle=False)\n",
        "test_loader=DataLoader(test_data,batch_size=32,shuffle=False)"
      ],
      "metadata": {
        "id": "gLpEHkv-kb-r"
      },
      "execution_count": 25,
      "outputs": []
    },
    {
      "cell_type": "markdown",
      "source": [
        "# Hyperparameters defined"
      ],
      "metadata": {
        "id": "oqbo67bcvmCq"
      }
    },
    {
      "cell_type": "code",
      "source": [
        "#hyperparameters\n",
        "batch_size=32\n",
        "num_epochs=8\n",
        "Learning_rate=0.001"
      ],
      "metadata": {
        "id": "j1MoWbJH0bpw"
      },
      "execution_count": 26,
      "outputs": []
    },
    {
      "cell_type": "markdown",
      "source": [
        "# Making a class of ResNET50 with no.of output neurons as 8"
      ],
      "metadata": {
        "id": "LM6YBrt_vpfP"
      }
    },
    {
      "cell_type": "code",
      "source": [
        "# Define ResNet50 model for classification\n",
        "from torchvision import models\n",
        "\n",
        "#Define ResNET50 classifier\n",
        "\n",
        "class ResNet50Classifier(nn.Module):\n",
        "    def __init__(self, num_classes=8):\n",
        "        super(ResNet50Classifier, self).__init__()\n",
        "        self.resnet = models.resnet50(weights=None)\n",
        "        self.resnet.fc= nn.Linear(2048, num_classes)\n",
        "\n",
        "    def forward(self,x):\n",
        "      return self.resnet(x)"
      ],
      "metadata": {
        "id": "ryHni0Zn_wNi"
      },
      "execution_count": 27,
      "outputs": []
    },
    {
      "cell_type": "markdown",
      "source": [
        "# tqdm for progress bar"
      ],
      "metadata": {
        "id": "USCZZO_Mv0Jb"
      }
    },
    {
      "cell_type": "code",
      "source": [
        "pip install tqdm"
      ],
      "metadata": {
        "colab": {
          "base_uri": "https://localhost:8080/"
        },
        "id": "sEjXvvZIecnD",
        "outputId": "e58eb801-12a6-499e-befa-8b7ab9288281"
      },
      "execution_count": 7,
      "outputs": [
        {
          "output_type": "stream",
          "name": "stdout",
          "text": [
            "Requirement already satisfied: tqdm in /usr/local/lib/python3.10/dist-packages (4.66.6)\n"
          ]
        }
      ]
    },
    {
      "cell_type": "markdown",
      "source": [
        "# setting the ResNet50 classifier to model and passing the model to device's cpu for training"
      ],
      "metadata": {
        "id": "RXlo7dVnv3Rz"
      }
    },
    {
      "cell_type": "code",
      "source": [
        "model = ResNet50Classifier(num_classes=8)\n",
        "model = model.to(device)"
      ],
      "metadata": {
        "id": "reOSTLNFhKdf"
      },
      "execution_count": 28,
      "outputs": []
    },
    {
      "cell_type": "markdown",
      "source": [
        "## Defining the Loss function and Optimizer"
      ],
      "metadata": {
        "id": "3YogUxP_wEc1"
      }
    },
    {
      "cell_type": "code",
      "source": [
        "#Using crossentropy loss for multi class classification\n",
        "criterion = nn.CrossEntropyLoss()\n",
        "#using Adam optimizer for optimizing the loss function.\n",
        "optimizer = optim.Adam(model.parameters(),lr=Learning_rate)"
      ],
      "metadata": {
        "id": "3KLkQ16ahhO9"
      },
      "execution_count": 29,
      "outputs": []
    },
    {
      "cell_type": "markdown",
      "source": [
        "# Defining a train function with loss as crossentropy and optimizer as Adam,such that whenever we write model.train(), then the resnet50 will start training with crossentropy loss and will optimize with Adam optimizer"
      ],
      "metadata": {
        "id": "81NVvz3JwLYg"
      }
    },
    {
      "cell_type": "code",
      "source": [
        "def train(model,train_loader,val_loader,num_epochs=num_epochs,device=device):\n",
        "  criterion=nn.CrossEntropyLoss()\n",
        "  optimizer=optim.Adam(model.parameters(),lr=Learning_rate)\n",
        "\n",
        "   # Track metrics\n",
        "  train_loss, val_loss = [], []\n",
        "  train_accuracy, val_accuracy = []\n",
        "  precision_scores, recall_scores, f1_scores = [], [], []\n"
      ],
      "metadata": {
        "id": "Z0u1_MPgiyWl"
      },
      "execution_count": 30,
      "outputs": []
    },
    {
      "cell_type": "markdown",
      "source": [
        "# Training the model for num_epochs=8 . The training loss is decreasing but the validation loss is not increasing frequently."
      ],
      "metadata": {
        "id": "mtsqXkEswm78"
      }
    },
    {
      "cell_type": "code",
      "source": [
        "from tqdm import tqdm\n",
        "# Initialize metrics\n",
        "train_loss, val_loss = [], []\n",
        "train_accuracy, val_accuracy = [] , []\n",
        "precision_scores, recall_scores, f1_scores = [], [], []\n",
        "#  training loop\n",
        "for epoch in range(num_epochs):\n",
        "    model.train()  # Set model to training mode\n",
        "    epoch_loss = 0.0\n",
        "    correct_train = 0\n",
        "    total_train = 0\n",
        "\n",
        "    # tqdm progress bar\n",
        "    loop = tqdm(train_loader, total=len(train_loader), leave=False)\n",
        "    for inputs, labels in loop:\n",
        "        inputs, labels = inputs.to(device), labels.to(device)\n",
        "\n",
        "        # Zero gradients\n",
        "        optimizer.zero_grad()\n",
        "\n",
        "        # Forward pass\n",
        "        outputs = model(inputs)\n",
        "        loss = criterion(outputs, labels)\n",
        "\n",
        "        # Backward pass and optimization\n",
        "        loss.backward()\n",
        "        optimizer.step()\n",
        "\n",
        "        # Update metrics\n",
        "        epoch_loss += loss.item()\n",
        "        _, predicted = torch.max(outputs, 1)\n",
        "        correct_train += (predicted == labels).sum().item()\n",
        "        total_train += labels.size(0)\n",
        "\n",
        "        # Update tqdm description\n",
        "        loop.set_description(f\"Epoch [{epoch+1}/{num_epochs}]\")\n",
        "        loop.set_postfix(loss=loss.item())\n",
        "\n",
        "    # Training statistics\n",
        "    train_loss.append(epoch_loss / len(train_loader))\n",
        "    train_accuracy.append(100 * correct_train / total_train)\n",
        "\n",
        "    # Validation Loop\n",
        "    model.eval()  # Set model to evaluation mode\n",
        "    val_epoch_loss = 0.0\n",
        "    correct_val = 0\n",
        "    total_val = 0\n",
        "    all_labels = []\n",
        "    all_preds = []\n",
        "\n",
        "    with torch.no_grad():\n",
        "        for inputs, labels in val_loader:\n",
        "            inputs, labels = inputs.to(device), labels.to(device)\n",
        "            outputs = model(inputs)\n",
        "            loss = criterion(outputs, labels)\n",
        "\n",
        "            val_epoch_loss += loss.item()\n",
        "            _, predicted = torch.max(outputs, 1)\n",
        "            correct_val += (predicted == labels).sum().item()\n",
        "            total_val += labels.size(0)\n",
        "\n",
        "            all_labels.extend(labels.cpu().numpy())\n",
        "            all_preds.extend(predicted.cpu().numpy())\n",
        "\n",
        "    # Validation metrics\n",
        "    val_loss.append(val_epoch_loss / len(val_loader))\n",
        "    val_accuracy.append(100 * correct_val / total_val)\n",
        "    precision_scores.append(precision_score(all_labels, all_preds, average='weighted', zero_division=1))\n",
        "    recall_scores.append(recall_score(all_labels, all_preds, average='weighted',  zero_division=1))\n",
        "    f1_scores.append(f1_score(all_labels, all_preds, average='weighted',  zero_division=1))\n",
        "\n",
        "    print(f\"Epoch {epoch+1}/{num_epochs}, Train Loss: {train_loss[-1]:.4f}, Val Loss: {val_loss[-1]:.4f}, Val Accuracy: {val_accuracy[-1]:.2f}%\")\n",
        "\n"
      ],
      "metadata": {
        "colab": {
          "base_uri": "https://localhost:8080/"
        },
        "id": "nlBQldHHq_x2",
        "outputId": "8d916a63-8a6a-4e7e-b4f9-719ed3ba3447"
      },
      "execution_count": 20,
      "outputs": [
        {
          "output_type": "stream",
          "name": "stderr",
          "text": []
        },
        {
          "output_type": "stream",
          "name": "stdout",
          "text": [
            "Epoch 1/8, Train Loss: 2.1970, Val Loss: 6.0740, Val Accuracy: 12.88%\n"
          ]
        },
        {
          "output_type": "stream",
          "name": "stderr",
          "text": []
        },
        {
          "output_type": "stream",
          "name": "stdout",
          "text": [
            "Epoch 2/8, Train Loss: 1.3748, Val Loss: 1.8320, Val Accuracy: 38.64%\n"
          ]
        },
        {
          "output_type": "stream",
          "name": "stderr",
          "text": []
        },
        {
          "output_type": "stream",
          "name": "stdout",
          "text": [
            "Epoch 3/8, Train Loss: 1.1950, Val Loss: 2.0083, Val Accuracy: 34.85%\n"
          ]
        },
        {
          "output_type": "stream",
          "name": "stderr",
          "text": []
        },
        {
          "output_type": "stream",
          "name": "stdout",
          "text": [
            "Epoch 4/8, Train Loss: 1.3314, Val Loss: 2.7357, Val Accuracy: 26.52%\n"
          ]
        },
        {
          "output_type": "stream",
          "name": "stderr",
          "text": []
        },
        {
          "output_type": "stream",
          "name": "stdout",
          "text": [
            "Epoch 5/8, Train Loss: 1.2616, Val Loss: 1.2206, Val Accuracy: 48.48%\n"
          ]
        },
        {
          "output_type": "stream",
          "name": "stderr",
          "text": []
        },
        {
          "output_type": "stream",
          "name": "stdout",
          "text": [
            "Epoch 6/8, Train Loss: 1.0888, Val Loss: 0.9549, Val Accuracy: 59.09%\n"
          ]
        },
        {
          "output_type": "stream",
          "name": "stderr",
          "text": []
        },
        {
          "output_type": "stream",
          "name": "stdout",
          "text": [
            "Epoch 7/8, Train Loss: 1.1372, Val Loss: 1.3943, Val Accuracy: 40.15%\n"
          ]
        },
        {
          "output_type": "stream",
          "name": "stderr",
          "text": []
        },
        {
          "output_type": "stream",
          "name": "stdout",
          "text": [
            "Epoch 8/8, Train Loss: 1.0427, Val Loss: 1.9841, Val Accuracy: 34.85%\n"
          ]
        }
      ]
    },
    {
      "cell_type": "markdown",
      "source": [
        "# saving the model weights in .pth file"
      ],
      "metadata": {
        "id": "YjAuXNQHxCK_"
      }
    },
    {
      "cell_type": "code",
      "source": [
        "torch.save(model.state_dict(), 'tea_disease_model.pth')"
      ],
      "metadata": {
        "id": "WhrV6ABZUTUk"
      },
      "execution_count": 21,
      "outputs": []
    },
    {
      "cell_type": "markdown",
      "source": [
        "# saving the model weights in .pth file in my google drive"
      ],
      "metadata": {
        "id": "rTEo_4PsxF3u"
      }
    },
    {
      "cell_type": "code",
      "source": [
        "torch.save(model.state_dict(), '/content/drive/MyDrive/KaggleDatasets/Tea_Sickness_Dataset/tea_disease_model.pth')\n"
      ],
      "metadata": {
        "id": "lNK99T9GVbOt"
      },
      "execution_count": 26,
      "outputs": []
    },
    {
      "cell_type": "markdown",
      "source": [
        "# Loading the model's prelearned weights from the .pth file stored in google drive"
      ],
      "metadata": {
        "id": "HTprP0a6xQn1"
      }
    },
    {
      "cell_type": "code",
      "source": [
        "model.load_state_dict(torch.load('/content/drive/MyDrive/KaggleDatasets/Tea_Sickness_Dataset/tea_disease_model.pth'))\n",
        "\n",
        "   # The warning shown below in this cell's output is a warning from pytorch for safety reasons , as I am loading a saved model's weights. It may happen sometimes while loading some unknown model weights which may be malicious."
      ],
      "metadata": {
        "colab": {
          "base_uri": "https://localhost:8080/"
        },
        "id": "lO75Vev7V16i",
        "outputId": "8bad07ab-6fc6-411d-cf49-19023c9f781a"
      },
      "execution_count": 32,
      "outputs": [
        {
          "output_type": "stream",
          "name": "stderr",
          "text": [
            "<ipython-input-32-941010da1792>:1: FutureWarning: You are using `torch.load` with `weights_only=False` (the current default value), which uses the default pickle module implicitly. It is possible to construct malicious pickle data which will execute arbitrary code during unpickling (See https://github.com/pytorch/pytorch/blob/main/SECURITY.md#untrusted-models for more details). In a future release, the default value for `weights_only` will be flipped to `True`. This limits the functions that could be executed during unpickling. Arbitrary objects will no longer be allowed to be loaded via this mode unless they are explicitly allowlisted by the user via `torch.serialization.add_safe_globals`. We recommend you start setting `weights_only=True` for any use case where you don't have full control of the loaded file. Please open an issue on GitHub for any issues related to this experimental feature.\n",
            "  model.load_state_dict(torch.load('/content/drive/MyDrive/KaggleDatasets/Tea_Sickness_Dataset/tea_disease_model.pth'))\n"
          ]
        },
        {
          "output_type": "execute_result",
          "data": {
            "text/plain": [
              "<All keys matched successfully>"
            ]
          },
          "metadata": {},
          "execution_count": 32
        }
      ]
    },
    {
      "cell_type": "markdown",
      "source": [
        "# Improving the validation accuracy and reducing the training loss, as in previous training loop the validation accuracy was around 40%. This training loop is started from the previous training loop where it was stopped  i.e., from epoch 9 to epoch 18 (additional 10 epochs added) with a reduced learning rate."
      ],
      "metadata": {
        "id": "6vE_D6muyUi9"
      }
    },
    {
      "cell_type": "code",
      "source": [
        "from tqdm import tqdm\n",
        "from sklearn.metrics import precision_score, recall_score, f1_score\n",
        "import torch\n",
        "\n",
        "# Update number of epochs for additional training\n",
        "additional_epochs = 10\n",
        "num_epochs += additional_epochs\n",
        "\n",
        "# Reduce the learning rate for fine-tuning\n",
        "for param_groups in optimizer.param_groups:\n",
        "    param_groups['lr'] = 0.0001\n",
        "\n",
        "print(f\"Resuming training for {additional_epochs} more epochs with learning rate: {param_groups['lr']}\")\n",
        "\n",
        "# Early stopping parameters\n",
        "patience = 3\n",
        "best_val_loss = float('inf')\n",
        "epochs_no_improve = 0\n",
        "\n",
        "# Continue training\n",
        "for epoch in range(num_epochs - additional_epochs, num_epochs):  # Adjust epoch range\n",
        "    model.train()  # Set model to training mode\n",
        "    epoch_loss = 0.0\n",
        "    correct_train = 0\n",
        "    total_train = 0\n",
        "\n",
        "    # tqdm progress bar for training\n",
        "    loop = tqdm(train_loader, total=len(train_loader), leave=False)\n",
        "    for inputs, labels in loop:\n",
        "        inputs, labels = inputs.to(device), labels.to(device)\n",
        "\n",
        "        # Zero gradients\n",
        "        optimizer.zero_grad()\n",
        "\n",
        "        # Forward pass\n",
        "        outputs = model(inputs)\n",
        "        loss = criterion(outputs, labels)\n",
        "\n",
        "        # Backward pass and optimization\n",
        "        loss.backward()\n",
        "        optimizer.step()\n",
        "\n",
        "        # Update metrics\n",
        "        epoch_loss += loss.item()\n",
        "        _, predicted = torch.max(outputs, 1)\n",
        "        correct_train += (predicted == labels).sum().item()\n",
        "        total_train += labels.size(0)\n",
        "\n",
        "        # Update tqdm description\n",
        "        loop.set_description(f\"Epoch [{epoch+1}/{num_epochs}]\")\n",
        "        loop.set_postfix(loss=loss.item())\n",
        "\n",
        "    # Training statistics\n",
        "    train_loss.append(epoch_loss / len(train_loader))\n",
        "    train_accuracy.append(100 * correct_train / total_train)\n",
        "\n",
        "    # Validation Loop\n",
        "    model.eval()  # Set model to evaluation mode\n",
        "    val_epoch_loss = 0.0\n",
        "    correct_val = 0\n",
        "    total_val = 0\n",
        "    all_labels = []\n",
        "    all_preds = []\n",
        "\n",
        "    with torch.no_grad():\n",
        "        for inputs, labels in val_loader:\n",
        "            inputs, labels = inputs.to(device), labels.to(device)\n",
        "            outputs = model(inputs)\n",
        "            loss = criterion(outputs, labels)\n",
        "\n",
        "            val_epoch_loss += loss.item()\n",
        "            _, predicted = torch.max(outputs, 1)\n",
        "            correct_val += (predicted == labels).sum().item()\n",
        "            total_val += labels.size(0)\n",
        "\n",
        "            all_labels.extend(labels.cpu().numpy())\n",
        "            all_preds.extend(predicted.cpu().numpy())\n",
        "\n",
        "    # Validation metrics\n",
        "    val_loss.append(val_epoch_loss / len(val_loader))\n",
        "    val_accuracy.append(100 * correct_val / total_val)\n",
        "    precision_scores.append(precision_score(all_labels, all_preds, average='weighted', zero_division=1))\n",
        "    recall_scores.append(recall_score(all_labels, all_preds, average='weighted', zero_division=1))\n",
        "    f1_scores.append(f1_score(all_labels, all_preds, average='weighted', zero_division=1))\n",
        "\n",
        "    print(f\"Epoch {epoch+1}/{num_epochs}, Train Loss: {train_loss[-1]:.4f}, Val Loss: {val_loss[-1]:.4f}, Val Accuracy: {val_accuracy[-1]:.2f}%\")\n",
        "\n",
        "    # Early stopping logic\n",
        "    if val_loss[-1] < best_val_loss:\n",
        "        best_val_loss = val_loss[-1]\n",
        "        epochs_no_improve = 0\n",
        "        torch.save(model.state_dict(), \"best_model.pth\")  # Save the updated best model\n",
        "        print(f\"Validation loss improved. Model saved.\")\n",
        "    else:\n",
        "        epochs_no_improve += 1\n",
        "\n",
        "    if epochs_no_improve == patience:\n",
        "        print(f\"Early stopping triggered after {epoch+1} epochs.\")\n",
        "        break\n"
      ],
      "metadata": {
        "colab": {
          "base_uri": "https://localhost:8080/"
        },
        "id": "js262NlEtSsf",
        "outputId": "2075782f-65b9-4eb9-ab3c-4f2eed037dbc"
      },
      "execution_count": 33,
      "outputs": [
        {
          "output_type": "stream",
          "name": "stdout",
          "text": [
            "Resuming training for 10 more epochs with learning rate: 0.0001\n"
          ]
        },
        {
          "output_type": "stream",
          "name": "stderr",
          "text": []
        },
        {
          "output_type": "stream",
          "name": "stdout",
          "text": [
            "Epoch 9/18, Train Loss: 0.8623, Val Loss: 0.8896, Val Accuracy: 62.88%\n",
            "Validation loss improved. Model saved.\n"
          ]
        },
        {
          "output_type": "stream",
          "name": "stderr",
          "text": []
        },
        {
          "output_type": "stream",
          "name": "stdout",
          "text": [
            "Epoch 10/18, Train Loss: 0.7664, Val Loss: 1.2963, Val Accuracy: 50.00%\n"
          ]
        },
        {
          "output_type": "stream",
          "name": "stderr",
          "text": []
        },
        {
          "output_type": "stream",
          "name": "stdout",
          "text": [
            "Epoch 11/18, Train Loss: 0.7743, Val Loss: 1.3487, Val Accuracy: 50.00%\n"
          ]
        },
        {
          "output_type": "stream",
          "name": "stderr",
          "text": []
        },
        {
          "output_type": "stream",
          "name": "stdout",
          "text": [
            "Epoch 12/18, Train Loss: 0.7773, Val Loss: 2.6204, Val Accuracy: 37.88%\n",
            "Early stopping triggered after 12 epochs.\n"
          ]
        }
      ]
    },
    {
      "cell_type": "code",
      "source": [
        "torch.save(model.state_dict(), '/content/drive/MyDrive/KaggleDatasets/Tea_Sickness_Dataset/tea_disease_model(12 EPOCH).pth')"
      ],
      "metadata": {
        "id": "6HpYr0MX9P0Y"
      },
      "execution_count": 34,
      "outputs": []
    },
    {
      "cell_type": "code",
      "source": [
        "def plot_metrics(train_loss, val_loss, train_accuracy, val_accuracy, precision, recall, f1):\n",
        "    # Plot loss\n",
        "    plt.figure(figsize=(12, 6))\n",
        "    plt.subplot(1, 2, 1)\n",
        "    plt.plot(train_loss, label='Train Loss')\n",
        "    plt.plot(val_loss, label='Validation Loss')\n",
        "    plt.xlabel('Epochs')\n",
        "    plt.ylabel('Loss')\n",
        "    plt.title('Loss vs Epochs')\n",
        "    plt.legend()\n",
        "\n",
        "    # Plot accuracy\n",
        "    plt.subplot(1, 2, 2)\n",
        "    plt.plot(train_accuracy, label='Train Accuracy')\n",
        "    plt.plot(val_accuracy, label='Validation Accuracy')\n",
        "    plt.xlabel('Epochs')\n",
        "    plt.ylabel('Accuracy')\n",
        "    plt.title('Accuracy vs Epochs')\n",
        "    plt.legend()\n",
        "    plt.show()\n",
        "\n",
        "    # Plot Precision, Recall, F1-Score\n",
        "    plt.figure(figsize=(12, 4))\n",
        "    plt.plot(precision, label='Precision')\n",
        "    plt.plot(recall, label='Recall')\n",
        "    plt.plot(f1, label='F1 Score')\n",
        "    plt.xlabel('Epochs')\n",
        "    plt.ylabel('Scores')\n",
        "    plt.title('Precision, Recall, F1 Score vs Epochs')\n",
        "    plt.legend()\n",
        "    plt.show()\n",
        "\n",
        "plot_metrics(train_loss, val_loss, train_accuracy, val_accuracy, precision_scores, recall_scores, f1_scores)\n",
        "\n"
      ],
      "metadata": {
        "colab": {
          "base_uri": "https://localhost:8080/",
          "height": 957
        },
        "id": "kidt53oT97Pf",
        "outputId": "1e6fd9de-e5bb-4e60-b1ee-a67acb1d780b"
      },
      "execution_count": 37,
      "outputs": [
        {
          "output_type": "display_data",
          "data": {
            "text/plain": [
              "<Figure size 1200x600 with 2 Axes>"
            ],
            "image/png": "[encoded data removed]"
          },
          "metadata": {}
        },
        {
          "output_type": "display_data",
          "data": {
            "text/plain": [
              "<Figure size 1200x400 with 1 Axes>"
            ],
            "image/png": "[encoded data removed]"
          },
          "metadata": {}
        }
      ]
    },
    {
      "cell_type": "code",
      "source": [
        "# Define the DataLoader for the test set (assuming you've already prepared it)\n",
        "test_loader = DataLoader(test_data, batch_size=32, shuffle=False)\n",
        "\n",
        "# Evaluate the model on the test set\n",
        "all_labels = []\n",
        "all_preds = []\n",
        "\n",
        "with torch.no_grad():  # No need to calculate gradients during evaluation\n",
        "    for inputs, labels in test_loader:\n",
        "        inputs, labels = inputs.to(device), labels.to(device)\n",
        "        outputs = model(inputs)\n",
        "        _, predicted = torch.max(outputs, 1)\n",
        "\n",
        "        # Collecting all labels and predictions for metrics\n",
        "        all_labels.extend(labels.cpu().numpy())\n",
        "        all_preds.extend(predicted.cpu().numpy())\n",
        "\n",
        "# Calculate accuracy\n",
        "accuracy = accuracy_score(all_labels, all_preds)\n",
        "print(f\"Test Accuracy: {accuracy * 100:.2f}%\")"
      ],
      "metadata": {
        "colab": {
          "base_uri": "https://localhost:8080/"
        },
        "id": "xQ8OMik59d97",
        "outputId": "6ab54f57-d74c-402c-85de-ac70ace3b9e9"
      },
      "execution_count": 36,
      "outputs": [
        {
          "output_type": "stream",
          "name": "stdout",
          "text": [
            "Test Accuracy: 35.56%\n"
          ]
        }
      ]
    }
  ]
}